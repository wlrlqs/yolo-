{
 "cells": [
  {
   "cell_type": "code",
   "execution_count": 30,
   "metadata": {},
   "outputs": [],
   "source": [
    "import onnx\n",
    "\n",
    "# 加载原始的 ONNX 模型\n",
    "model_path = r\"runs\\classify\\train13\\weights\\best.onnx\"\n",
    "model = onnx.load(model_path)\n",
    "\n",
    "# 修改输入格式为 1*640*640*3\n",
    "model.graph.input[0].type.tensor_type.shape.dim[1].dim_value = 384\n",
    "model.graph.input[0].type.tensor_type.shape.dim[2].dim_value = 640\n",
    "model.graph.input[0].type.tensor_type.shape.dim[3].dim_value = 3\n",
    "model.graph.node[0].input[0]=\"transpose_output_1\""
   ]
  },
  {
   "cell_type": "code",
   "execution_count": 31,
   "metadata": {},
   "outputs": [],
   "source": [
    "transpose_node_1 = onnx.helper.make_node(\n",
    "    \"Transpose\",\n",
    "    inputs=[\"images\"],\n",
    "    outputs=[\"transpose_output_1\"],\n",
    "    perm=[0, 3, 1, 2]  # 调整维度顺序\n",
    ")\n",
    "model.graph.node.insert(0,transpose_node_1)"
   ]
  },
  {
   "cell_type": "code",
   "execution_count": 32,
   "metadata": {},
   "outputs": [],
   "source": [
    "node = [x for x in model.graph.node if \"output0\" in x.output]\n",
    "node[0].input.pop(0)\n",
    "node[0].input.reverse()"
   ]
  },
  {
   "cell_type": "code",
   "execution_count": 33,
   "metadata": {},
   "outputs": [
    {
     "data": {
      "text/plain": [
       "input: \"/model.22/Reshape_7_output_0\"\n",
       "input: \"/model.22/Sigmoid_output_0\"\n",
       "output: \"output0\"\n",
       "name: \"/model.22/Concat_6\"\n",
       "op_type: \"Concat\"\n",
       "attribute {\n",
       "  name: \"axis\"\n",
       "  i: 1\n",
       "  type: INT\n",
       "}"
      ]
     },
     "execution_count": 33,
     "metadata": {},
     "output_type": "execute_result"
    }
   ],
   "source": [
    "model.graph.node[-1]"
   ]
  },
  {
   "cell_type": "code",
   "execution_count": 25,
   "metadata": {},
   "outputs": [],
   "source": [
    "model.graph.node[-1].output[0]=\"transpose_node_2\""
   ]
  },
  {
   "cell_type": "code",
   "execution_count": 26,
   "metadata": {},
   "outputs": [],
   "source": [
    "transpose_node_2 = onnx.helper.make_node(\n",
    "    \"Transpose\",\n",
    "    inputs=[\"transpose_node_2\"],\n",
    "    outputs=[\"output\"],\n",
    "    perm=[0, 2, 1]  # 调整维度顺序\n",
    ")\n",
    "model.graph.node.append(transpose_node_2)"
   ]
  },
  {
   "cell_type": "code",
   "execution_count": 27,
   "metadata": {},
   "outputs": [],
   "source": [
    "model.graph.output[0].type.tensor_type.shape.dim[0].dim_value=1\n",
    "model.graph.output[0].type.tensor_type.shape.dim[1].dim_value=15120\n",
    "model.graph.output[0].type.tensor_type.shape.dim[2].dim_value=19"
   ]
  },
  {
   "cell_type": "code",
   "execution_count": 28,
   "metadata": {},
   "outputs": [],
   "source": [
    "model.graph.output[0].name=\"output\""
   ]
  },
  {
   "cell_type": "code",
   "execution_count": 29,
   "metadata": {},
   "outputs": [],
   "source": [
    "onnx.save(model, model_path.replace(\".onnx\",\"_new.onnx\"))"
   ]
  },
  {
   "cell_type": "code",
   "execution_count": 46,
   "metadata": {},
   "outputs": [
    {
     "name": "stdout",
     "output_type": "stream",
     "text": [
      "342\n"
     ]
    }
   ],
   "source": [
    "# model.graph.node[0].name\n",
    "for (i,node) in enumerate(model.graph.node):\n",
    "    if \"Concat_341\" in node.name:\n",
    "        print(i)"
   ]
  }
 ],
 "metadata": {
  "kernelspec": {
   "display_name": "CUDA113",
   "language": "python",
   "name": "python3"
  },
  "language_info": {
   "codemirror_mode": {
    "name": "ipython",
    "version": 3
   },
   "file_extension": ".py",
   "mimetype": "text/x-python",
   "name": "python",
   "nbconvert_exporter": "python",
   "pygments_lexer": "ipython3",
   "version": "3.9.7"
  },
  "orig_nbformat": 4
 },
 "nbformat": 4,
 "nbformat_minor": 2
}
