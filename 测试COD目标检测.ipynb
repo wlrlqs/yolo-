{
 "cells": [
  {
   "cell_type": "code",
   "execution_count": 6,
   "metadata": {
    "is_executing": true
   },
   "outputs": [],
   "source": [
    "from ultralytics import YOLO\n",
    "model = YOLO(r'C:\\Users\\Lanye\\Desktop\\Code\\ubuntu\\runs\\detect\\train9\\weights\\best.pt')"
   ]
  },
  {
   "cell_type": "code",
   "execution_count": null,
   "metadata": {
    "collapsed": false,
    "is_executing": true
   },
   "outputs": [],
   "source": [
    "import cv2\n",
    "import numpy as np\n",
    "import win32con\n",
    "import win32gui\n",
    "import win32ui\n",
    "from ultralytics import YOLO\n",
    "\n",
    "xywh = [0, 0, 2560, 1440]\n",
    "screen_center = [(xywh[0] + xywh[2]) / 2, (xywh[1] + xywh[3]) / 2]\n",
    "hwin = win32gui.GetDesktopWindow()\n",
    "hwindc = win32gui.GetWindowDC(hwin)\n",
    "srcdc = win32ui.CreateDCFromHandle(hwindc)\n",
    "memdc = srcdc.CreateCompatibleDC()\n",
    "bmp = win32ui.CreateBitmap()\n",
    "bmp.CreateCompatibleBitmap(srcdc, xywh[2], xywh[3])\n",
    "memdc.SelectObject(bmp)\n",
    "def grab_screen():\n",
    "    memdc.BitBlt((0, 0), (xywh[2], xywh[3]), srcdc, (xywh[0], xywh[1]), win32con.SRCCOPY)\n",
    "    signedIntsArray = bmp.GetBitmapBits(True)\n",
    "    img = np.frombuffer(signedIntsArray, np.uint8)\n",
    "    img.shape = (xywh[3], xywh[2], 4)\n",
    "    return img[:, :, :-1]"
   ]
  },
  {
   "cell_type": "code",
   "execution_count": 71,
   "metadata": {},
   "outputs": [
    {
     "name": "stderr",
     "output_type": "stream",
     "text": [
      "\n",
      "0: 1248x2176 3 bodys, 3 heads, 48.6ms\n",
      "Speed: 16.2ms preprocess, 48.6ms inference, 13.4ms postprocess per image at shape (1, 3, 1248, 2176)\n"
     ]
    }
   ],
   "source": [
    "import cv2\n",
    "model = YOLO(r'C:\\Users\\Lanye\\Desktop\\Code\\ubuntu\\runs\\detect\\train9\\weights\\best.pt')\n",
    "# frame = grab_screen()\n",
    "frame = cv2.imread(r\"C:\\Users\\Lanye\\Desktop\\CheatDataset\\dataset\\training_ground_54.jpg\")\n",
    "frame = cv2.resize(frame,(1920, 1080))\n",
    "result = model.predict(frame, show=False, conf=0.5)[0]"
   ]
  },
  {
   "cell_type": "code",
   "execution_count": 3,
   "metadata": {},
   "outputs": [],
   "source": [
    "from math import sqrt\n",
    "import pydirectinput"
   ]
  },
  {
   "cell_type": "code",
   "execution_count": 79,
   "metadata": {},
   "outputs": [
    {
     "name": "stdout",
     "output_type": "stream",
     "text": [
      "535.2163721476009\n",
      "554.9143155937121\n",
      "1078.9413706455616\n",
      "1243.612865391145\n",
      "1078.1865204903238\n",
      "1244.4800475172933\n"
     ]
    },
    {
     "data": {
      "text/plain": [
       "tensor([[0.4991, 0.4962, 0.0153, 0.0297],\n",
       "        [0.5006, 0.5473, 0.0452, 0.1335],\n",
       "        [0.6935, 0.5338, 0.0118, 0.0330],\n",
       "        [0.7549, 0.5400, 0.0234, 0.0702],\n",
       "        [0.6934, 0.5215, 0.0044, 0.0073],\n",
       "        [0.7552, 0.5131, 0.0083, 0.0146]], device='cuda:0')"
      ]
     },
     "execution_count": 79,
     "metadata": {},
     "output_type": "execute_result"
    }
   ],
   "source": [
    "import time\n",
    "\n",
    "\n",
    "xywh = [0, 0, 1280*2, 720*2]\n",
    "xywh = [0, 0, 1920, 1080]\n",
    "screen_center = [(xywh[0] + xywh[2]/ 2) , (xywh[1] + xywh[3]/ 2)]\n",
    "distList = []\n",
    "\n",
    "for item in result.boxes.data:\n",
    "    center = (float(item[0] + item[2]/2) , float(item[1] + item[3]/2))\n",
    "    dist = sqrt(((center[0] - screen_center[0])**2 + (center[1] - screen_center[1])**2))\n",
    "    print(dist)\n",
    "    distList.append(dist)\n",
    "index = distList.index(min(distList))\n",
    "targetBox = result.boxes.xywh[index]\n",
    "targetPoint = (int(targetBox[0]) , int(targetBox[1]))\n",
    "targetMove =[int(x-y) for x,y in zip(targetPoint,screen_center)]\n",
    "# 移动鼠标到指定点\n",
    "pydirectinput.moveTo(targetPoint[0], targetPoint[1])"
   ]
  },
  {
   "cell_type": "code",
   "execution_count": 65,
   "metadata": {},
   "outputs": [],
   "source": [
    "cv2.imshow(\"1\",result.plot())\n",
    "cv2.waitKey(10000)\n",
    "cv2.destroyAllWindows()"
   ]
  },
  {
   "cell_type": "code",
   "execution_count": 62,
   "metadata": {},
   "outputs": [
    {
     "name": "stdout",
     "output_type": "stream",
     "text": [
      "屏幕分辨率：1920x1080\n"
     ]
    }
   ],
   "source": [
    "import pyautogui\n",
    "\n",
    "# 获取屏幕的宽度和高度\n",
    "screen_width, screen_height = pyautogui.size()\n",
    "\n",
    "print(\"屏幕分辨率：{}x{}\".format(screen_width, screen_height))"
   ]
  }
 ],
 "metadata": {
  "kernelspec": {
   "display_name": "CUDA113",
   "language": "python",
   "name": "python3"
  },
  "language_info": {
   "codemirror_mode": {
    "name": "ipython",
    "version": 3
   },
   "file_extension": ".py",
   "mimetype": "text/x-python",
   "name": "python",
   "nbconvert_exporter": "python",
   "pygments_lexer": "ipython3",
   "version": "3.9.16"
  },
  "orig_nbformat": 4
 },
 "nbformat": 4,
 "nbformat_minor": 2
}
