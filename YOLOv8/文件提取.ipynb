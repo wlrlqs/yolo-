{
 "cells": [
  {
   "cell_type": "markdown",
   "metadata": {},
   "source": [
    "复制文件"
   ]
  },
  {
   "cell_type": "code",
   "execution_count": 1,
   "metadata": {},
   "outputs": [
    {
     "name": "stdout",
     "output_type": "stream",
     "text": [
      "文件复制完成\n"
     ]
    }
   ],
   "source": [
    "import shutil\n",
    "import os\n",
    "\n",
    "# 源目录\n",
    "source_directory = r'C:\\Users\\Lanye\\Desktop\\工训数据集\\垃圾桶\\NewData(10.14)'\n",
    "\n",
    "# 目标目录\n",
    "destination_directory = r'C:\\Users\\Lanye\\Desktop\\工训数据集\\垃圾桶\\Gather(10.14)'\n",
    "\n",
    "# 遍历源目录下的所有文件和子目录\n",
    "for root, dirs, files in os.walk(source_directory):\n",
    "    for file in files:\n",
    "        # 构建源文件的完整路径\n",
    "        source_file_path = os.path.join(root, file)\n",
    "        # 构建目标文件的完整路径\n",
    "        destination_file_path = os.path.join(destination_directory, file)\n",
    "        \n",
    "        # 复制文件到目标目录\n",
    "        shutil.copy2(source_file_path, destination_file_path)\n",
    "\n",
    "print(\"文件复制完成\")\n"
   ]
  },
  {
   "cell_type": "markdown",
   "metadata": {},
   "source": [
    "PNG转jpg"
   ]
  },
  {
   "cell_type": "code",
   "execution_count": 5,
   "metadata": {},
   "outputs": [],
   "source": [
    "import os\n",
    "import cv2\n",
    "input_dir = r\"C:\\Users\\Lanye\\Desktop\\(10.14)DianCi\"\n",
    "for filename in os.listdir(input_dir):\n",
    "    if filename.endswith(\".png\"):\n",
    "        # 构建输入和输出文件路径\n",
    "        input_path = os.path.join(input_dir, filename)\n",
    "        output_path = os.path.join(input_dir, filename[:-4] + \".jpg\")\n",
    "\n",
    "        # 读取 PNG 文件\n",
    "        image = cv2.imread(input_path)\n",
    "\n",
    "        # 转换为 JPG 格式并保存\n",
    "        cv2.imwrite(output_path, image, [int(cv2.IMWRITE_JPEG_QUALITY), 90])\n",
    "\n",
    "        # 删除源文件\n",
    "        os.remove(input_path)"
   ]
  },
  {
   "cell_type": "markdown",
   "metadata": {},
   "source": [
    "提取有标签文件"
   ]
  },
  {
   "cell_type": "code",
   "execution_count": 2,
   "metadata": {},
   "outputs": [],
   "source": [
    "import json\n",
    "import os\n",
    "import shutil\n",
    "\n",
    "# 输入和输出目录\n",
    "input_dir = r\"C:\\Users\\Lanye\\Desktop\\工训数据集\\垃圾桶\\(10.14)Gather-JPG\"\n",
    "output_dir = r\"C:\\Users\\Lanye\\Desktop\\工训数据集\\垃圾桶\\(10.14)Gather-Pure-Json\"\n",
    "\n",
    "# 创建输出目录（如果不存在）\n",
    "if not os.path.exists(output_dir):\n",
    "    os.makedirs(output_dir)\n",
    "\n",
    "# 遍历JSON文件\n",
    "for filename in os.listdir(input_dir):\n",
    "    if filename.endswith(\".json\"):\n",
    "        src_json_path = os.path.join(input_dir, filename)\n",
    "        with open(src_json_path, \"r\") as file:\n",
    "            data = json.load(file)\n",
    "        \n",
    "        # 检查是否存在标签信息\n",
    "        if \"shapes\" in data and len(data[\"shapes\"]) > 0:\n",
    "            # 如果存在标签信息，则复制图片文件到输出目录\n",
    "            image_filename = os.path.splitext(filename)[0] + \".jpg\"\n",
    "            src_image_path = os.path.join(input_dir, image_filename)\n",
    "            dest_image_path = os.path.join(output_dir, image_filename)\n",
    "            dest_json_path = os.path.join(output_dir, filename)\n",
    "            shutil.copy2(src_image_path, dest_image_path)\n",
    "            shutil.copy2(src_json_path, dest_json_path)\n"
   ]
  }
 ],
 "metadata": {
  "kernelspec": {
   "display_name": "common",
   "language": "python",
   "name": "python3"
  },
  "language_info": {
   "codemirror_mode": {
    "name": "ipython",
    "version": 3
   },
   "file_extension": ".py",
   "mimetype": "text/x-python",
   "name": "python",
   "nbconvert_exporter": "python",
   "pygments_lexer": "ipython3",
   "version": "3.9.16"
  },
  "orig_nbformat": 4
 },
 "nbformat": 4,
 "nbformat_minor": 2
}
