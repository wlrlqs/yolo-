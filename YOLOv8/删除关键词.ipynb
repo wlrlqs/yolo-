{
 "cells": [
  {
   "cell_type": "code",
   "execution_count": 1,
   "metadata": {},
   "outputs": [],
   "source": [
    "import os\n",
    "folder_path = r\"C:\\Users\\Lanye\\Desktop\\Code\\CheatDataset\\dataset\"\n",
    "keyword = \"Call of Duty  Modern Warfare 2 (2022) Screenshot 2023.11.02 - \"\n",
    "for filename in os.listdir(folder_path):\n",
    "    if keyword in filename:\n",
    "        new_filename = filename.replace(keyword, \"\")\n",
    "\n",
    "        # 构建旧文件路径和新文件路径\n",
    "        old_filepath = os.path.join(folder_path, filename)\n",
    "        new_filepath = os.path.join(folder_path, new_filename)\n",
    "\n",
    "        # 重命名文件\n",
    "        os.rename(old_filepath, new_filepath)\n",
    "        # os.remove(old_filepath)"
   ]
  }
 ],
 "metadata": {
  "kernelspec": {
   "display_name": "common",
   "language": "python",
   "name": "python3"
  },
  "language_info": {
   "codemirror_mode": {
    "name": "ipython",
    "version": 3
   },
   "file_extension": ".py",
   "mimetype": "text/x-python",
   "name": "python",
   "nbconvert_exporter": "python",
   "pygments_lexer": "ipython3",
   "version": "3.9.16"
  }
 },
 "nbformat": 4,
 "nbformat_minor": 2
}
