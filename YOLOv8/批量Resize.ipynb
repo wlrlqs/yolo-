{
 "cells": [
  {
   "cell_type": "code",
   "execution_count": 1,
   "metadata": {},
   "outputs": [],
   "source": [
    "import os\n",
    "import cv2\n",
    "input_dir = r\"C:\\Users\\Lanye\\Desktop\\DAHUA\"\n",
    "for filename in os.listdir(input_dir):\n",
    "    if filename.endswith(\".jpeg\"):\n",
    "        # 构建输入和输出文件路径\n",
    "        input_path = os.path.join(input_dir, filename)\n",
    "\n",
    "        # 读取 JPG 文件\n",
    "        image = cv2.imread(input_path)\n",
    "\n",
    "        # 调整图像大小为 960x960\n",
    "        resized_image = cv2.resize(image, (960, 960))\n",
    "\n",
    "        # 保存调整大小后的图像\n",
    "        cv2.imwrite(input_path, resized_image)"
   ]
  }
 ],
 "metadata": {
  "kernelspec": {
   "display_name": "common",
   "language": "python",
   "name": "python3"
  },
  "language_info": {
   "codemirror_mode": {
    "name": "ipython",
    "version": 3
   },
   "file_extension": ".py",
   "mimetype": "text/x-python",
   "name": "python",
   "nbconvert_exporter": "python",
   "pygments_lexer": "ipython3",
   "version": "3.9.16"
  }
 },
 "nbformat": 4,
 "nbformat_minor": 2
}
