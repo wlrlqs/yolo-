{
 "cells": [
  {
   "cell_type": "code",
   "execution_count": 1,
   "metadata": {},
   "outputs": [],
   "source": [
    "from ultralytics import YOLO\n",
    "\n",
    "model = YOLO('SmartTransPoseBest.pt')"
   ]
  },
  {
   "cell_type": "code",
   "execution_count": 2,
   "metadata": {},
   "outputs": [
    {
     "name": "stderr",
     "output_type": "stream",
     "text": [
      "\n",
      "image 1/1 c:\\Users\\Lanye\\Desktop\\Code\\(SmartBin)ultralytics-main\\001.jpg: 480x640 1 blue, 117.4ms\n",
      "Speed: 3.1ms preprocess, 117.4ms inference, 3.0ms postprocess per image at shape (1, 3, 480, 640)\n"
     ]
    }
   ],
   "source": [
    "result = model.predict(r\"001.jpg\")[0]"
   ]
  },
  {
   "cell_type": "code",
   "execution_count": 10,
   "metadata": {},
   "outputs": [
    {
     "data": {
      "text/plain": [
       "{0: 'red', 1: 'green', 2: 'blue'}"
      ]
     },
     "execution_count": 10,
     "metadata": {},
     "output_type": "execute_result"
    }
   ],
   "source": [
    "result.boxes.cls.tolist()\n",
    "result.keypoints.data.tolist()\n",
    "result.names"
   ]
  },
  {
   "cell_type": "code",
   "execution_count": 4,
   "metadata": {},
   "outputs": [
    {
     "data": {
      "text/plain": [
       "[[146.0, 123.0, 448.0, 432.0, 0.9866306185722351, 2.0]]"
      ]
     },
     "execution_count": 4,
     "metadata": {},
     "output_type": "execute_result"
    }
   ],
   "source": [
    "boxes.data.tolist()"
   ]
  },
  {
   "cell_type": "code",
   "execution_count": 43,
   "metadata": {},
   "outputs": [],
   "source": [
    "import cv2\n",
    "import numpy as np\n",
    "\n",
    "# 假设你有一个点列表，表示物体的轮廓\n",
    "contour_points = [(10, 10), (20, 30), (40, 20), (30, 10)]\n",
    "\n",
    "# 将点列表转换为NumPy数组\n",
    "contour_points = result[0].masks.xy[0].astype(np.int64)\n",
    "\n",
    "# 计算最小外接矩形\n",
    "rect = cv2.minAreaRect(contour_points)\n",
    "\n",
    "# 提取矩形的中心坐标、宽度、高度和旋转角度\n",
    "center, size, angle = rect\n",
    "\n",
    "# 将浮点型坐标转换为整数\n",
    "center = (int(center[0]), int(center[1]))\n",
    "size = (int(size[0]), int(size[1]))\n",
    "angle = int(angle)\n",
    "\n",
    "# 绘制最小外接矩形\n",
    "image = np.zeros((900, 900), dtype=np.uint8)  # 创建一个空白图像\n",
    "box = cv2.boxPoints(rect).astype(np.int32)  # 获取矩形的四个顶点坐标\n",
    "cv2.drawContours(image, [box], -1, 255, -1)  # 在图像上绘制矩形\n",
    "\n",
    "# 显示结果\n",
    "cv2.imshow('Result', image)\n",
    "cv2.waitKey(0)\n",
    "cv2.destroyAllWindows()"
   ]
  }
 ],
 "metadata": {
  "kernelspec": {
   "display_name": "base",
   "language": "python",
   "name": "python3"
  },
  "language_info": {
   "codemirror_mode": {
    "name": "ipython",
    "version": 3
   },
   "file_extension": ".py",
   "mimetype": "text/x-python",
   "name": "python",
   "nbconvert_exporter": "python",
   "pygments_lexer": "ipython3",
   "version": "3.9.16"
  }
 },
 "nbformat": 4,
 "nbformat_minor": 2
}
